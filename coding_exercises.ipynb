{
 "cells": [
  {
   "cell_type": "markdown",
   "metadata": {},
   "source": [
    "# learning basic programming concepts  \n",
    "### objectives  \n",
    "- understand basic code \n",
    "- write a complete working program \n"
   ]
  },
  {
   "cell_type": "markdown",
   "metadata": {},
   "source": [
    "## Printing"
   ]
  },
  {
   "cell_type": "markdown",
   "metadata": {},
   "source": [
    "Prompt I used: “Could you suggest a python\n",
    "code for ‘Hello, world!’to demonstrate the concept of printing to a complete beginner in programming? Please explain the code step-by-step highlighting any key aspects.\""
   ]
  },
  {
   "cell_type": "markdown",
   "metadata": {},
   "source": [
    "Learning outcomes: \n",
    " - how code is formatted\n",
    " - types of data\n",
    " - the syntax of code."
   ]
  },
  {
   "cell_type": "code",
   "execution_count": 2,
   "metadata": {},
   "outputs": [
    {
     "name": "stdout",
     "output_type": "stream",
     "text": [
      "Hello, world!\n"
     ]
    }
   ],
   "source": [
    "print(\"Hello, world!\")"
   ]
  },
  {
   "cell_type": "markdown",
   "metadata": {},
   "source": [
    "## 1. Variables\n"
   ]
  },
  {
   "cell_type": "code",
   "execution_count": 3,
   "metadata": {},
   "outputs": [
    {
     "name": "stdout",
     "output_type": "stream",
     "text": [
      "Hello, world!\n"
     ]
    }
   ],
   "source": [
    "message = \"Hello, world!\"\n",
    "print(message)"
   ]
  },
  {
   "cell_type": "markdown",
   "metadata": {},
   "source": [
    "The above code demonstrates how variables work in Python.\n",
    "\n",
    "Line 1 creates a variable called `message`, a place where you can store information.\n",
    "\n",
    "The `=` sign assigns things to the variable.\n",
    "\n",
    "Print I have used already, it displays what is in the variable.\n",
    "\n",
    "You can change the contents of the variable to change what is printed."
   ]
  },
  {
   "cell_type": "markdown",
   "metadata": {},
   "source": [
    "Suggested prompts: What happens if I try to print a variable before assigning it a value? How do I create and use multiple variables in Python? Can you show me how to get input from the user and store it in a variable?"
   ]
  },
  {
   "cell_type": "markdown",
   "metadata": {},
   "source": [
    "## 2. Functions"
   ]
  },
  {
   "cell_type": "code",
   "execution_count": 4,
   "metadata": {},
   "outputs": [
    {
     "name": "stdout",
     "output_type": "stream",
     "text": [
      "Hello, world!\n"
     ]
    }
   ],
   "source": [
    "def say_hello():\n",
    "    print(\"Hello, world!\")\n",
    "\n",
    "say_hello()\n"
   ]
  },
  {
   "cell_type": "markdown",
   "metadata": {},
   "source": [
    "The above code shows how functions work in Python.\n",
    "\n",
    "def means you're defining a function.\n",
    "\n",
    "say_hello is the name of the function — you can call it later to run your code.\n",
    "\n",
    "(): is needed to start the function block (even if it takes no input).\n",
    "\n",
    "The line inside the function is what runs when you use the function.\n",
    "\n",
    "say_hello() calls the function — this is when \"Hello, world!\" gets printed."
   ]
  },
  {
   "cell_type": "markdown",
   "metadata": {},
   "source": [
    "Suggested prompts:\n",
    "What happens if I call the function before defining it?\n",
    "How do I create a function that takes input like a name?\n",
    "Can I return values from a function?\n",
    "How do I write a function that adds two numbers?"
   ]
  },
  {
   "cell_type": "markdown",
   "metadata": {},
   "source": [
    "## 3. Loops"
   ]
  },
  {
   "cell_type": "code",
   "execution_count": 5,
   "metadata": {},
   "outputs": [
    {
     "name": "stdout",
     "output_type": "stream",
     "text": [
      "Hello, world!\n",
      "Hello, world!\n",
      "Hello, world!\n"
     ]
    }
   ],
   "source": [
    "for i in range(3):\n",
    "    print(\"Hello, world!\")\n"
   ]
  },
  {
   "cell_type": "markdown",
   "metadata": {},
   "source": [
    "The above code shows how loops work in Python.\n",
    "\n",
    "for starts a loop — a way to run code multiple times.\n",
    "\n",
    "i is a temporary variable that changes each time the loop runs.\n",
    "\n",
    "range(3) means the loop will run 3 times (starting from 0 up to 2).\n",
    "\n",
    "Inside the loop, print(\"Hello, world!\") runs once per loop.\n",
    "\n",
    "So, Python prints it 3 times — one for each loop."
   ]
  },
  {
   "cell_type": "markdown",
   "metadata": {},
   "source": [
    "Suggested prompts:\n",
    "What if I want to print “Hello” 10 times?\n",
    "How do I print the loop number with the message?\n",
    "Can I loop through a list of names instead of a range?\n",
    "What’s the difference between a for loop and a while loop?"
   ]
  },
  {
   "cell_type": "markdown",
   "metadata": {},
   "source": [
    "## 4. Lists"
   ]
  },
  {
   "cell_type": "code",
   "execution_count": 6,
   "metadata": {},
   "outputs": [
    {
     "name": "stdout",
     "output_type": "stream",
     "text": [
      "Hello, world!\n",
      "Hi there!\n",
      "Welcome!\n"
     ]
    }
   ],
   "source": [
    "messages = [\"Hello, world!\", \"Hi there!\", \"Welcome!\"]\n",
    "\n",
    "for msg in messages:\n",
    "    print(msg)\n"
   ]
  },
  {
   "cell_type": "markdown",
   "metadata": {},
   "source": [
    "The above code shows how lists work in Python.\n",
    "\n",
    "A list is a way to store multiple values in one variable — like a collection.\n",
    "\n",
    "messages holds three strings (all in square brackets [], separated by commas).\n",
    "\n",
    "The for loop goes through each item in the list and calls it msg.\n",
    "\n",
    "print(msg) prints each message one by one.\n",
    "\n",
    "This is useful when you have lots of things to print or process!"
   ]
  },
  {
   "cell_type": "markdown",
   "metadata": {},
   "source": [
    "Suggested prompts:\n",
    "How do I add or remove items from a list?\n",
    "What happens if I print just messages[0]?\n",
    "Can I make a list of numbers and add them up?\n",
    "How do I sort or reverse a list?"
   ]
  },
  {
   "cell_type": "markdown",
   "metadata": {},
   "source": [
    "## 5. Dictionaries"
   ]
  },
  {
   "cell_type": "code",
   "execution_count": 7,
   "metadata": {},
   "outputs": [
    {
     "name": "stdout",
     "output_type": "stream",
     "text": [
      "Hello, world!\n"
     ]
    }
   ],
   "source": [
    "greetings = {\n",
    "    \"English\": \"Hello, world!\",\n",
    "    \"Spanish\": \"¡Hola, mundo!\",\n",
    "    \"French\": \"Bonjour, le monde!\"\n",
    "}\n",
    "\n",
    "print(greetings[\"English\"])\n"
   ]
  },
  {
   "cell_type": "markdown",
   "metadata": {},
   "source": [
    "The above code shows how dictionaries work in Python.\n",
    "\n",
    "A dictionary stores values using keys.\n",
    "\n",
    "greetings is a variable holding a dictionary (wrapped in {}).\n",
    "\n",
    "Each pair is made of a key (like \"English\") and a value (like \"Hello, world!\").\n",
    "\n",
    "print(greetings[\"English\"]) looks up the value for the key \"English\" and prints it.\n",
    "\n",
    "Dictionaries are great for organising related data."
   ]
  },
  {
   "cell_type": "markdown",
   "metadata": {},
   "source": [
    "Suggested prompts:\n",
    "How do I add a new language to the dictionary?\n",
    "What happens if I try to access a key that doesn’t exist?\n",
    "How can I loop through all the keys and values?\n",
    "Can dictionary values be lists or other dictionaries?"
   ]
  },
  {
   "cell_type": "markdown",
   "metadata": {},
   "source": [
    "## 6. Arrays\n",
    "\n",
    "I think these are the same as lists in Python."
   ]
  },
  {
   "cell_type": "markdown",
   "metadata": {},
   "source": [
    "## 7. Imports"
   ]
  },
  {
   "cell_type": "code",
   "execution_count": 8,
   "metadata": {},
   "outputs": [
    {
     "name": "stdout",
     "output_type": "stream",
     "text": [
      "Greetings!\n"
     ]
    }
   ],
   "source": [
    "import random\n",
    "\n",
    "message = random.choice([\"Hello, world!\", \"Hi there!\", \"Greetings!\"])\n",
    "print(message)\n"
   ]
  },
  {
   "cell_type": "markdown",
   "metadata": {},
   "source": [
    "The above code shows how to import and use a library in Python.\n",
    "\n",
    "import random brings in Python’s built-in random library.\n",
    "\n",
    "random.choice([...]) picks one random item from a list.\n",
    "\n",
    "The list contains different messages — any one might be printed!\n",
    "\n",
    "message stores the chosen greeting, and print(message) displays it.\n",
    "\n",
    "Using libraries gives your code superpowers — they’re like toolkits full of ready-made features.\n",
    "\n"
   ]
  },
  {
   "cell_type": "markdown",
   "metadata": {},
   "source": [
    "Suggested prompts:\n",
    "What other functions are in the random library?\n",
    "Can you show me how to import just one part of a library?\n",
    "How do I install and import third-party libraries like NumPy or requests?\n",
    "What’s the difference between import random and from random import choice?"
   ]
  },
  {
   "cell_type": "markdown",
   "metadata": {},
   "source": [
    "## 8. Conditions"
   ]
  },
  {
   "cell_type": "code",
   "execution_count": 9,
   "metadata": {},
   "outputs": [
    {
     "name": "stdout",
     "output_type": "stream",
     "text": [
      "Bonjour, le monde!\n"
     ]
    }
   ],
   "source": [
    "language = \"French\"\n",
    "\n",
    "if language == \"English\":\n",
    "    print(\"Hello, world!\")\n",
    "elif language == \"Spanish\":\n",
    "    print(\"¡Hola, mundo!\")\n",
    "elif language == \"French\":\n",
    "    print(\"Bonjour, le monde!\")\n",
    "else:\n",
    "    print(\"Language not supported.\")\n"
   ]
  },
  {
   "cell_type": "markdown",
   "metadata": {},
   "source": [
    "The above code shows how if/elif/else statements work in Python.\n",
    "\n",
    "language = \"French\" sets the language.\n",
    "\n",
    "if checks if it’s \"English\" — if true, that block runs.\n",
    "\n",
    "elif (short for else if) checks more conditions if the first wasn’t true.\n",
    "\n",
    "else runs if none of the conditions matched.\n",
    "\n",
    "Only one block runs, based on the value of language."
   ]
  },
  {
   "cell_type": "markdown",
   "metadata": {},
   "source": [
    "Suggested prompts:\n",
    "What happens if I change language to something else?\n",
    "How can I check for multiple values at once?\n",
    "Can I use if with numbers instead of text?\n",
    "How do I nest if statements inside each other?"
   ]
  },
  {
   "cell_type": "markdown",
   "metadata": {},
   "source": [
    "## 9. Operators"
   ]
  },
  {
   "cell_type": "code",
   "execution_count": 10,
   "metadata": {},
   "outputs": [
    {
     "name": "stdout",
     "output_type": "stream",
     "text": [
      "Hello, world!\n",
      "Hello! Hello! Hello! \n",
      "Sum: 15\n",
      "Product: 6\n"
     ]
    }
   ],
   "source": [
    "greeting = \"Hello, \" + \"world!\"\n",
    "repeat = \"Hello! \" * 3\n",
    "number_sum = 5 + 10\n",
    "product = 2 * 3\n",
    "\n",
    "print(greeting)\n",
    "print(repeat)\n",
    "print(\"Sum:\", number_sum)\n",
    "print(\"Product:\", product)\n"
   ]
  },
  {
   "cell_type": "markdown",
   "metadata": {},
   "source": [
    "`+` (Addition)\n",
    "With strings, + joins (or concatenates) them:\n",
    "\n",
    "\"Hello, \" + \"world!\" becomes \"Hello, world!\"\n",
    "\n",
    "With numbers, + does normal addition:\n",
    "\n",
    "5 + 10 equals 15"
   ]
  },
  {
   "cell_type": "markdown",
   "metadata": {},
   "source": [
    "`*` (Multiplication)\n",
    "With numbers, * multiplies them:\n",
    "\n",
    "2 * 3 equals 6\n",
    "\n",
    "With strings, * repeats the string:\n",
    "\n",
    "\"Hello! \" * 3 prints it 3 times"
   ]
  },
  {
   "cell_type": "markdown",
   "metadata": {},
   "source": [
    "Suggested prompts:\n",
    "What happens if I try \"Hello\" + 5?\n",
    "Can I use subtraction or division with strings?\n",
    "How do I safely mix strings and numbers in a sentence?\n",
    "Can I store results in new variables and reuse them?"
   ]
  },
  {
   "cell_type": "markdown",
   "metadata": {},
   "source": [
    "## 10. Advanced Concepts"
   ]
  },
  {
   "cell_type": "code",
   "execution_count": 11,
   "metadata": {},
   "outputs": [
    {
     "name": "stdout",
     "output_type": "stream",
     "text": [
      "Hello, world!\n"
     ]
    }
   ],
   "source": [
    "class Greeter:\n",
    "    def say_hello(self):\n",
    "        print(\"Hello, world!\")\n",
    "\n",
    "greet = Greeter()\n",
    "greet.say_hello()\n"
   ]
  },
  {
   "cell_type": "markdown",
   "metadata": {},
   "source": [
    "This code shows how to use classes, objects, and methods in Python.\n",
    "\n",
    "class Greeter:\n",
    "A class is like a blueprint for something — in this case, a greeter.\n",
    "\n",
    "Inside the class, we define what the greeter can do.\n",
    "\n",
    "def say_hello(self):\n",
    "This defines a method — a function that belongs to the class.\n",
    "\n",
    "self refers to the object that calls the method (more on that below).\n",
    "\n",
    "greet = Greeter()\n",
    "This creates an object called greet, based on the Greeter class.\n",
    "\n",
    "Think of greet as a real version of the blueprint.\n",
    "\n",
    "greet.say_hello()\n",
    "This calls the say_hello method from the greet object.\n",
    "\n",
    "It prints \"Hello, world!\" — the object is doing something."
   ]
  },
  {
   "cell_type": "markdown",
   "metadata": {},
   "source": [
    "Suggested prompts:\n",
    "What happens if I create two objects from the class?\n",
    "How can I pass a name to the greeter and personalize the message?\n",
    "Can I have a class with multiple methods?\n",
    "What’s the difference between a class and a function?"
   ]
  },
  {
   "cell_type": "markdown",
   "metadata": {},
   "source": [
    "# Youtube Video"
   ]
  },
  {
   "cell_type": "code",
   "execution_count": 13,
   "metadata": {},
   "outputs": [
    {
     "data": {
      "image/jpeg": "[encoded data removed]",
      "text/html": [
       "\n",
       "        <iframe\n",
       "            width=\"400\"\n",
       "            height=\"300\"\n",
       "            src=\"https://www.youtube.com/embed/05PKG_pWsVY\"\n",
       "            frameborder=\"0\"\n",
       "            allowfullscreen\n",
       "            \n",
       "        ></iframe>\n",
       "        "
      ],
      "text/plain": [
       "<IPython.lib.display.YouTubeVideo at 0x7b0d0e91d9a0>"
      ]
     },
     "execution_count": 13,
     "metadata": {},
     "output_type": "execute_result"
    }
   ],
   "source": [
    "from IPython.display import *\n",
    "YouTubeVideo(\"05PKG_pWsVY\")"
   ]
  }
 ],
 "metadata": {
  "kernelspec": {
   "display_name": "Python 3",
   "language": "python",
   "name": "python3"
  },
  "language_info": {
   "codemirror_mode": {
    "name": "ipython",
    "version": 3
   },
   "file_extension": ".py",
   "mimetype": "text/x-python",
   "name": "python",
   "nbconvert_exporter": "python",
   "pygments_lexer": "ipython3",
   "version": "3.12.1"
  }
 },
 "nbformat": 4,
 "nbformat_minor": 2
}
